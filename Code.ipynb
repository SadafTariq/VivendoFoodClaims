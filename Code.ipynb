{
 "cells": [
  {
   "cell_type": "code",
   "execution_count": null,
   "metadata": {},
   "outputs": [],
   "source": [
    "# Importing the required libaries\n",
    "import pyodbc\n",
    "import matplotlib.pyplot as plt\n",
    "import pandas as pd\n",
    "import seaborn as sns\n",
    "\n",
    "conn = pyodbc.connect('Driver={SQL Server};'\n",
    "                      'Server=---------;'\n",
    "                      'Database=ClaimsNew;'\n",
    "                      'Trusted_Connection=yes;')   "
   ]
  },
  {
   "cell_type": "code",
   "execution_count": null,
   "metadata": {},
   "outputs": [],
   "source": [
    "#Getting the dataset from SQL server\n",
    "df = pd.read_sql_query('SELECT * FROM claims', conn)\n",
    "print(df.head())\n",
    "print(df.info())"
   ]
  },
  {
   "cell_type": "code",
   "execution_count": null,
   "metadata": {},
   "outputs": [],
   "source": [
    "#Number of claims across different locations\n",
    "sns.set_style('darkgrid')\n",
    "sns.catplot(x='Location', kind='count', data= df)\n",
    "plt.title('Number of claims across different locations')\n",
    "plt.ylabel('Number of claims')\n",
    "plt.show()"
   ]
  },
  {
   "cell_type": "code",
   "execution_count": null,
   "metadata": {},
   "outputs": [],
   "source": [
    "#The Distribution of Time to Close Claims\n",
    "plt.figure(figsize=(10,6))\n",
    "sns.histplot(data=df, x=\"Time_to_Close\")\n",
    "plt.xlabel(\"Time to Close(days)\")\n",
    "plt.ylabel(\"Number of claims\")\n",
    "plt.title('The Distribution of Time to Close Claims', fontsize = 14)\n",
    "plt.show()"
   ]
  },
  {
   "cell_type": "code",
   "execution_count": null,
   "metadata": {},
   "outputs": [],
   "source": [
    "#Average time to close claims across each location\n",
    "df1=pd.read_sql_query('SELECT Location, AVG(No_of_year) AS Avg_Time FROM dbo.claims GROUP BY Location',conn)\n",
    "print(df1)\n",
    "sns.catplot(y='Time_to_Close', x='Location',kind='point', data=df, ci=None)\n",
    "plt.ylim(0,1500)\n",
    "plt.xlabel('Locations')\n",
    "plt.ylabel('Time to Close (days)')\n",
    "plt.title('Average time to close claims across each location')\n",
    "plt.show()"
   ]
  },
  {
   "cell_type": "code",
   "execution_count": null,
   "metadata": {},
   "outputs": [],
   "source": [
    "#Multiple plots to know the avg time to close claims across each location\n",
    "def specs(x, **kwargs):\n",
    "    ax = sns.histplot(x=x)\n",
    "    ax.axvline(x.mean(), color='k', lw=1, linestyle='dashed')\n",
    "   \n",
    "g = sns.FacetGrid(data=df, col='Location')\n",
    "g.map(specs,'Time_to_Close' )\n",
    "\n",
    "plt.show()\n"
   ]
  },
  {
   "cell_type": "code",
   "execution_count": null,
   "metadata": {},
   "outputs": [],
   "source": [
    "#Spread of time(days) to close claims differ by location\n",
    "sns.catplot(x='Location', y='Time_to_Close', kind='box', data= df)\n",
    "plt.title('Spread of time(days) to close claims differ by location')\n",
    "plt.ylabel('Time to close(days)')\n",
    "plt.show()"
   ]
  },
  {
   "cell_type": "code",
   "execution_count": null,
   "metadata": {},
   "outputs": [],
   "source": [
    "#Cause of claims\n",
    "sns.catplot(x='Cause', y='No_Claim', kind='bar', data=df2)\n",
    "plt.show()"
   ]
  }
 ],
 "metadata": {
  "kernelspec": {
   "display_name": "base",
   "language": "python",
   "name": "python3"
  },
  "language_info": {
   "name": "python",
   "version": "3.9.13 (main, Aug 25 2022, 23:51:50) [MSC v.1916 64 bit (AMD64)]"
  },
  "orig_nbformat": 4,
  "vscode": {
   "interpreter": {
    "hash": "277a3a9e074b45e01d893552e992ea7a5444d3443866f6ad4e40993b177dc278"
   }
  }
 },
 "nbformat": 4,
 "nbformat_minor": 2
}
